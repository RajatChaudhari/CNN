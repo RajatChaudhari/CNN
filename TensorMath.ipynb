{
 "cells": [
  {
   "cell_type": "code",
   "execution_count": 5,
   "metadata": {},
   "outputs": [],
   "source": [
    "import numpy as np\n",
    "import matplotlib.pyplot as plt\n",
    "%matplotlib inline"
   ]
  },
  {
   "cell_type": "code",
   "execution_count": 2,
   "metadata": {},
   "outputs": [],
   "source": [
    "A=np.random.randint(10,size=(2,3,4,5))\n",
    "B=np.random.randint(10,size=(2,3))"
   ]
  },
  {
   "cell_type": "code",
   "execution_count": 3,
   "metadata": {},
   "outputs": [
    {
     "data": {
      "text/plain": [
       "array([[[[0, 2, 3, 7, 9],\n",
       "         [8, 6, 0, 7, 7],\n",
       "         [3, 6, 7, 0, 7],\n",
       "         [3, 4, 0, 8, 3]],\n",
       "\n",
       "        [[1, 0, 0, 7, 9],\n",
       "         [2, 9, 5, 8, 1],\n",
       "         [3, 5, 1, 4, 2],\n",
       "         [0, 4, 3, 3, 4]],\n",
       "\n",
       "        [[1, 8, 0, 9, 3],\n",
       "         [6, 9, 0, 1, 6],\n",
       "         [7, 4, 4, 1, 5],\n",
       "         [3, 3, 6, 8, 9]]],\n",
       "\n",
       "\n",
       "       [[[5, 7, 3, 4, 6],\n",
       "         [3, 8, 2, 4, 9],\n",
       "         [7, 7, 7, 1, 7],\n",
       "         [4, 8, 1, 5, 4]],\n",
       "\n",
       "        [[5, 6, 7, 7, 4],\n",
       "         [9, 6, 7, 3, 0],\n",
       "         [4, 0, 0, 5, 7],\n",
       "         [8, 2, 6, 4, 7]],\n",
       "\n",
       "        [[1, 7, 5, 0, 8],\n",
       "         [1, 8, 6, 1, 6],\n",
       "         [7, 9, 9, 5, 8],\n",
       "         [3, 0, 0, 9, 0]]]])"
      ]
     },
     "execution_count": 3,
     "metadata": {},
     "output_type": "execute_result"
    }
   ],
   "source": [
    "A"
   ]
  },
  {
   "cell_type": "code",
   "execution_count": 4,
   "metadata": {},
   "outputs": [
    {
     "data": {
      "text/plain": [
       "array([[[196,  83, 254],\n",
       "        [195, 195,  24],\n",
       "        [141, 144, 210],\n",
       "        [121,  35, 126]],\n",
       "\n",
       "       [[ 48, 233, 150],\n",
       "        [ 67,  63,  66],\n",
       "        [134, 149, 103],\n",
       "        [132,  69,  25]],\n",
       "\n",
       "       [[231,  16, 124],\n",
       "        [166, 240, 172],\n",
       "        [123, 190, 211],\n",
       "        [135, 160,  74]],\n",
       "\n",
       "       [[175, 123,  75],\n",
       "        [140, 185,   9],\n",
       "        [104,  61, 227],\n",
       "        [162, 228,  23]]], dtype=uint8)"
      ]
     },
     "execution_count": 4,
     "metadata": {},
     "output_type": "execute_result"
    }
   ],
   "source": [
    "img=np.random.randint(255,size=(4,4,3),dtype='uint8')\n",
    "img"
   ]
  },
  {
   "cell_type": "code",
   "execution_count": 9,
   "metadata": {},
   "outputs": [
    {
     "data": {
      "text/plain": [
       "Text(0.5,1,'Blue channel')"
      ]
     },
     "execution_count": 9,
     "metadata": {},
     "output_type": "execute_result"
    },
    {
     "data": {
      "image/png": "[encoded data removed]",
      "text/plain": [
       "<Figure size 720x720 with 4 Axes>"
      ]
     },
     "metadata": {},
     "output_type": "display_data"
    }
   ],
   "source": [
    "plt.figure(figsize=(10,10))\n",
    "plt.subplot(221)\n",
    "plt.imshow(img)\n",
    "plt.title(\"All channels combined\")\n",
    "\n",
    "plt.subplot(222)\n",
    "plt.imshow(img[:,:,0],cmap='Reds')\n",
    "plt.title(\"Red channel\")\n",
    "\n",
    "plt.subplot(223)\n",
    "plt.imshow(img[:,:,1], cmap='Greens')\n",
    "plt.title(\"Green channel\")\n",
    "\n",
    "plt.subplot(224)\n",
    "plt.imshow(img[:,:,1],cmap='Blues')\n",
    "plt.title(\"Blue channel\")"
   ]
  },
  {
   "cell_type": "code",
   "execution_count": 15,
   "metadata": {},
   "outputs": [
    {
     "data": {
      "text/plain": [
       "(2, 3, 4, 5)"
      ]
     },
     "execution_count": 15,
     "metadata": {},
     "output_type": "execute_result"
    }
   ],
   "source": [
    "A.shape"
   ]
  },
  {
   "cell_type": "code",
   "execution_count": 16,
   "metadata": {},
   "outputs": [
    {
     "data": {
      "text/plain": [
       "(2, 3)"
      ]
     },
     "execution_count": 16,
     "metadata": {},
     "output_type": "execute_result"
    }
   ],
   "source": [
    "B.shape"
   ]
  },
  {
   "cell_type": "code",
   "execution_count": 10,
   "metadata": {},
   "outputs": [
    {
     "data": {
      "text/plain": [
       "array([[ 63, 133,  72, 154, 207],\n",
       "       [118, 227,  79, 136, 171],\n",
       "       [152, 177, 159,  61, 171],\n",
       "       [ 83, 131,  51, 175, 112]])"
      ]
     },
     "execution_count": 10,
     "metadata": {},
     "output_type": "execute_result"
    }
   ],
   "source": [
    "np.tensordot(A,B,axes=([0,1],[0,1]))"
   ]
  },
  {
   "cell_type": "code",
   "execution_count": 12,
   "metadata": {},
   "outputs": [
    {
     "data": {
      "text/plain": [
       "(4, 5)"
      ]
     },
     "execution_count": 12,
     "metadata": {},
     "output_type": "execute_result"
    }
   ],
   "source": [
    "np.tensordot(A,B,axes=([0,1],[0,1])).shape"
   ]
  },
  {
   "cell_type": "code",
   "execution_count": 13,
   "metadata": {},
   "outputs": [
    {
     "data": {
      "text/plain": [
       "array([[[[ 45,   5,  20],\n",
       "         [ 75,  19,  34],\n",
       "         [ 45,  21,  21],\n",
       "         [ 78,  46,  37],\n",
       "         [108,  60,  51]],\n",
       "\n",
       "        [[ 75,  51,  36],\n",
       "         [108,  44,  50],\n",
       "         [ 18,   2,   8],\n",
       "         [ 78,  46,  37],\n",
       "         [123,  51,  57]],\n",
       "\n",
       "        [[ 81,  25,  37],\n",
       "         [ 99,  43,  46],\n",
       "         [105,  49,  49],\n",
       "         [  9,   1,   4],\n",
       "         [105,  49,  49]],\n",
       "\n",
       "        [[ 54,  22,  25],\n",
       "         [ 96,  32,  44],\n",
       "         [  9,   1,   4],\n",
       "         [ 93,  53,  44],\n",
       "         [ 54,  22,  25]]],\n",
       "\n",
       "\n",
       "       [[[ 51,  11,  23],\n",
       "         [ 54,   6,  24],\n",
       "         [ 63,   7,  28],\n",
       "         [105,  49,  49],\n",
       "         [ 90,  58,  43]],\n",
       "\n",
       "        [[ 93,  21,  42],\n",
       "         [108,  60,  51],\n",
       "         [ 93,  37,  43],\n",
       "         [ 75,  51,  36],\n",
       "         [  6,   6,   3]],\n",
       "\n",
       "        [[ 54,  22,  25],\n",
       "         [ 30,  30,  15],\n",
       "         [  6,   6,   3],\n",
       "         [ 69,  29,  32],\n",
       "         [ 75,  19,  34]],\n",
       "\n",
       "        [[ 72,   8,  32],\n",
       "         [ 42,  26,  20],\n",
       "         [ 72,  24,  33],\n",
       "         [ 54,  22,  25],\n",
       "         [ 87,  31,  40]]],\n",
       "\n",
       "\n",
       "       [[[ 15,   7,   7],\n",
       "         [111,  55,  52],\n",
       "         [ 45,   5,  20],\n",
       "         [ 54,  54,  27],\n",
       "         [ 90,  26,  41]],\n",
       "\n",
       "        [[ 45,  37,  22],\n",
       "         [126,  62,  59],\n",
       "         [ 54,   6,  24],\n",
       "         [ 15,   7,   7],\n",
       "         [ 90,  42,  42]],\n",
       "\n",
       "        [[105,  49,  49],\n",
       "         [105,  33,  48],\n",
       "         [105,  33,  48],\n",
       "         [ 51,  11,  23],\n",
       "         [102,  38,  47]],\n",
       "\n",
       "        [[ 45,  21,  21],\n",
       "         [ 18,  18,   9],\n",
       "         [ 36,  36,  18],\n",
       "         [129,  57,  60],\n",
       "         [ 54,  54,  27]]]])"
      ]
     },
     "execution_count": 13,
     "metadata": {},
     "output_type": "execute_result"
    }
   ],
   "source": [
    "np.tensordot(A,B,axes=([0],[0]))"
   ]
  },
  {
   "cell_type": "code",
   "execution_count": 14,
   "metadata": {},
   "outputs": [
    {
     "data": {
      "text/plain": [
       "(3, 4, 5, 3)"
      ]
     },
     "execution_count": 14,
     "metadata": {},
     "output_type": "execute_result"
    }
   ],
   "source": [
    "np.tensordot(A,B,axes=([0],[0])).shape"
   ]
  },
  {
   "cell_type": "code",
   "execution_count": null,
   "metadata": {},
   "outputs": [],
   "source": []
  }
 ],
 "metadata": {
  "kernelspec": {
   "display_name": "Python 3",
   "language": "python",
   "name": "python3"
  },
  "language_info": {
   "codemirror_mode": {
    "name": "ipython",
    "version": 3
   },
   "file_extension": ".py",
   "mimetype": "text/x-python",
   "name": "python",
   "nbconvert_exporter": "python",
   "pygments_lexer": "ipython3",
   "version": "3.6.5"
  }
 },
 "nbformat": 4,
 "nbformat_minor": 2
}
